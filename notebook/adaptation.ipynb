{
 "cells": [
  {
   "cell_type": "code",
   "execution_count": 1,
   "metadata": {
    "collapsed": true
   },
   "outputs": [],
   "source": [
    "import pandas as pd\n",
    "import numpy as np"
   ]
  },
  {
   "cell_type": "code",
   "execution_count": 30,
   "metadata": {},
   "outputs": [
    {
     "name": "stdout",
     "output_type": "stream",
     "text": [
      " Il volume nell'unit… C non ha etichetta.\n",
      " Numero di serie del volume: 33B2-3723\n",
      "\n",
      " Directory di C:\\Users\\Alberto Zurli\\PycharmProjects\\project_thesis\n",
      "\n",
      "16/08/2021  17:27    <DIR>          .\n",
      "16/08/2021  17:27    <DIR>          ..\n",
      "08/06/2021  10:37                47 .gitignore\n",
      "16/08/2021  17:26    <DIR>          .idea\n",
      "06/08/2021  15:43    <DIR>          checkpoints\n",
      "11/08/2021  13:30               299 chp_list.txt\n",
      "11/08/2021  13:35    <DIR>          dataset\n",
      "25/05/2021  11:25    <DIR>          detection\n",
      "12/08/2021  17:31             7.918 main.py\n",
      "16/08/2021  17:16    <DIR>          notebook\n",
      "16/08/2021  16:02            60.486 online_0.001.csv\n",
      "16/08/2021  16:02               728 online_0.001.txt\n",
      "16/08/2021  17:27            60.575 online_0.025.csv\n",
      "16/08/2021  17:27               728 online_0.025.txt\n",
      "16/08/2021  11:29            60.881 online_cnn.csv\n",
      "16/08/2021  11:29               728 online_cnn.txt\n",
      "16/08/2021  12:15            60.916 online_leaky.csv\n",
      "16/08/2021  12:15               728 online_leaky.txt\n",
      "16/08/2021  17:06            60.860 online_test_big.csv\n",
      "16/08/2021  17:06               728 online_test_big.txt\n",
      "06/08/2021  17:04             1.625 README.md\n",
      "21/06/2021  17:39               614 requirements.txt\n",
      "16/08/2021  17:18    <DIR>          runs\n",
      "16/08/2021  17:10    <DIR>          utils\n",
      "11/08/2021  09:11    <DIR>          various\n",
      "              15 File        317.861 byte\n",
      "              10 Directory  31.208.325.120 byte disponibili\n"
     ]
    }
   ],
   "source": [
    "!dir"
   ]
  },
  {
   "cell_type": "code",
   "execution_count": 43,
   "metadata": {
    "pycharm": {
     "name": "#%%\n"
    }
   },
   "outputs": [
    {
     "data": {
      "text/plain": [
       "<AxesSubplot:>"
      ]
     },
     "execution_count": 43,
     "metadata": {},
     "output_type": "execute_result"
    },
    {
     "data": {
      "image/png": "[encoded data removed]",
      "text/plain": [
       "<Figure size 432x288 with 1 Axes>"
      ]
     },
     "metadata": {
      "needs_background": "light"
     },
     "output_type": "display_data"
    }
   ],
   "source": [
    "df = pd.read_csv('online_leaky.csv')\n",
    "df = df.T\n",
    "df = df[1:]\n",
    "df.plot()"
   ]
  },
  {
   "cell_type": "code",
   "execution_count": 44,
   "metadata": {
    "pycharm": {
     "name": "#%%\n"
    }
   },
   "outputs": [
    {
     "data": {
      "text/html": [
       "<div>\n",
       "<style scoped>\n",
       "    .dataframe tbody tr th:only-of-type {\n",
       "        vertical-align: middle;\n",
       "    }\n",
       "\n",
       "    .dataframe tbody tr th {\n",
       "        vertical-align: top;\n",
       "    }\n",
       "\n",
       "    .dataframe thead th {\n",
       "        text-align: right;\n",
       "    }\n",
       "</style>\n",
       "<table border=\"1\" class=\"dataframe\">\n",
       "  <thead>\n",
       "    <tr style=\"text-align: right;\">\n",
       "      <th></th>\n",
       "      <th>0</th>\n",
       "      <th>1</th>\n",
       "      <th>2</th>\n",
       "      <th>3</th>\n",
       "    </tr>\n",
       "  </thead>\n",
       "  <tbody>\n",
       "    <tr>\n",
       "      <th>0</th>\n",
       "      <td>52.254098</td>\n",
       "      <td>22.142857</td>\n",
       "      <td>72.162162</td>\n",
       "      <td>76.941748</td>\n",
       "    </tr>\n",
       "    <tr>\n",
       "      <th>1</th>\n",
       "      <td>51.946721</td>\n",
       "      <td>34.285714</td>\n",
       "      <td>72.972973</td>\n",
       "      <td>78.398058</td>\n",
       "    </tr>\n",
       "    <tr>\n",
       "      <th>2</th>\n",
       "      <td>52.151639</td>\n",
       "      <td>42.619048</td>\n",
       "      <td>71.621622</td>\n",
       "      <td>77.912621</td>\n",
       "    </tr>\n",
       "    <tr>\n",
       "      <th>3</th>\n",
       "      <td>53.688525</td>\n",
       "      <td>50.000000</td>\n",
       "      <td>71.081081</td>\n",
       "      <td>77.669903</td>\n",
       "    </tr>\n",
       "    <tr>\n",
       "      <th>4</th>\n",
       "      <td>54.200820</td>\n",
       "      <td>54.285714</td>\n",
       "      <td>71.351351</td>\n",
       "      <td>77.427184</td>\n",
       "    </tr>\n",
       "    <tr>\n",
       "      <th>...</th>\n",
       "      <td>...</td>\n",
       "      <td>...</td>\n",
       "      <td>...</td>\n",
       "      <td>...</td>\n",
       "    </tr>\n",
       "    <tr>\n",
       "      <th>1195</th>\n",
       "      <td>52.766393</td>\n",
       "      <td>NaN</td>\n",
       "      <td>NaN</td>\n",
       "      <td>NaN</td>\n",
       "    </tr>\n",
       "    <tr>\n",
       "      <th>1196</th>\n",
       "      <td>52.766393</td>\n",
       "      <td>NaN</td>\n",
       "      <td>NaN</td>\n",
       "      <td>NaN</td>\n",
       "    </tr>\n",
       "    <tr>\n",
       "      <th>1197</th>\n",
       "      <td>52.766393</td>\n",
       "      <td>NaN</td>\n",
       "      <td>NaN</td>\n",
       "      <td>NaN</td>\n",
       "    </tr>\n",
       "    <tr>\n",
       "      <th>1198</th>\n",
       "      <td>52.766393</td>\n",
       "      <td>NaN</td>\n",
       "      <td>NaN</td>\n",
       "      <td>NaN</td>\n",
       "    </tr>\n",
       "    <tr>\n",
       "      <th>1199</th>\n",
       "      <td>52.766393</td>\n",
       "      <td>NaN</td>\n",
       "      <td>NaN</td>\n",
       "      <td>NaN</td>\n",
       "    </tr>\n",
       "  </tbody>\n",
       "</table>\n",
       "<p>1200 rows × 4 columns</p>\n",
       "</div>"
      ],
      "text/plain": [
       "              0          1          2          3\n",
       "0     52.254098  22.142857  72.162162  76.941748\n",
       "1     51.946721  34.285714  72.972973  78.398058\n",
       "2     52.151639  42.619048  71.621622  77.912621\n",
       "3     53.688525  50.000000  71.081081  77.669903\n",
       "4     54.200820  54.285714  71.351351  77.427184\n",
       "...         ...        ...        ...        ...\n",
       "1195  52.766393        NaN        NaN        NaN\n",
       "1196  52.766393        NaN        NaN        NaN\n",
       "1197  52.766393        NaN        NaN        NaN\n",
       "1198  52.766393        NaN        NaN        NaN\n",
       "1199  52.766393        NaN        NaN        NaN\n",
       "\n",
       "[1200 rows x 4 columns]"
      ]
     },
     "execution_count": 44,
     "metadata": {},
     "output_type": "execute_result"
    }
   ],
   "source": [
    "df"
   ]
  },
  {
   "cell_type": "code",
   "execution_count": 45,
   "metadata": {
    "pycharm": {
     "name": "#%%\n"
    }
   },
   "outputs": [],
   "source": [
    "tmp = pd.Series(np.NaN,index=np.arange(1200),dtype='float64')\n",
    "df['Domain 1']= tmp\n",
    "tmp = df[1][:900].copy()\n",
    "df['Domain 1'][:1200] = np.NaN\n",
    "df['Domain 1'][300:] = tmp"
   ]
  },
  {
   "cell_type": "code",
   "execution_count": 46,
   "metadata": {
    "pycharm": {
     "name": "#%%\n"
    }
   },
   "outputs": [],
   "source": [
    "tmp = pd.Series(np.NaN,index=np.arange(1200),dtype='float64')\n",
    "df['Domain 2']= tmp\n",
    "tmp = df[2][:600].copy()\n",
    "df['Domain 2'][:1200] = np.NaN\n",
    "df['Domain 2'][600:] = tmp"
   ]
  },
  {
   "cell_type": "code",
   "execution_count": 47,
   "metadata": {
    "pycharm": {
     "name": "#%%\n"
    }
   },
   "outputs": [],
   "source": [
    "tmp = pd.Series(np.NaN,index=np.arange(1200),dtype='float64')\n",
    "df['Domain 3']= tmp\n",
    "tmp = df[3][:300].copy()\n",
    "df['Domain 3'][:1200] = np.NaN\n",
    "df['Domain 3'][900:] = tmp"
   ]
  },
  {
   "cell_type": "code",
   "execution_count": 48,
   "metadata": {
    "pycharm": {
     "name": "#%%\n"
    }
   },
   "outputs": [],
   "source": [
    "# tmp = pd.Series(np.NaN,index=np.arange(2000),dtype='float64')\n",
    "# df['Domain 4']= tmp\n",
    "# tmp = df[4][:500].copy()\n",
    "# df['Domain 4'][:2000] = np.NaN\n",
    "# df['Domain 4'][2000:] = tmp"
   ]
  },
  {
   "cell_type": "code",
   "execution_count": 49,
   "metadata": {
    "pycharm": {
     "name": "#%%\n"
    }
   },
   "outputs": [],
   "source": [
    "df = df.rename(columns={0:'Domain 0'})\n",
    "df = df.drop([1,2,3],axis=1)"
   ]
  },
  {
   "cell_type": "code",
   "execution_count": 50,
   "metadata": {
    "pycharm": {
     "name": "#%%\n"
    }
   },
   "outputs": [
    {
     "data": {
      "text/html": [
       "<div>\n",
       "<style scoped>\n",
       "    .dataframe tbody tr th:only-of-type {\n",
       "        vertical-align: middle;\n",
       "    }\n",
       "\n",
       "    .dataframe tbody tr th {\n",
       "        vertical-align: top;\n",
       "    }\n",
       "\n",
       "    .dataframe thead th {\n",
       "        text-align: right;\n",
       "    }\n",
       "</style>\n",
       "<table border=\"1\" class=\"dataframe\">\n",
       "  <thead>\n",
       "    <tr style=\"text-align: right;\">\n",
       "      <th></th>\n",
       "      <th>Domain 0</th>\n",
       "      <th>Domain 1</th>\n",
       "      <th>Domain 2</th>\n",
       "      <th>Domain 3</th>\n",
       "    </tr>\n",
       "  </thead>\n",
       "  <tbody>\n",
       "    <tr>\n",
       "      <th>0</th>\n",
       "      <td>52.254098</td>\n",
       "      <td>NaN</td>\n",
       "      <td>NaN</td>\n",
       "      <td>NaN</td>\n",
       "    </tr>\n",
       "    <tr>\n",
       "      <th>1</th>\n",
       "      <td>51.946721</td>\n",
       "      <td>NaN</td>\n",
       "      <td>NaN</td>\n",
       "      <td>NaN</td>\n",
       "    </tr>\n",
       "    <tr>\n",
       "      <th>2</th>\n",
       "      <td>52.151639</td>\n",
       "      <td>NaN</td>\n",
       "      <td>NaN</td>\n",
       "      <td>NaN</td>\n",
       "    </tr>\n",
       "    <tr>\n",
       "      <th>3</th>\n",
       "      <td>53.688525</td>\n",
       "      <td>NaN</td>\n",
       "      <td>NaN</td>\n",
       "      <td>NaN</td>\n",
       "    </tr>\n",
       "    <tr>\n",
       "      <th>4</th>\n",
       "      <td>54.200820</td>\n",
       "      <td>NaN</td>\n",
       "      <td>NaN</td>\n",
       "      <td>NaN</td>\n",
       "    </tr>\n",
       "    <tr>\n",
       "      <th>...</th>\n",
       "      <td>...</td>\n",
       "      <td>...</td>\n",
       "      <td>...</td>\n",
       "      <td>...</td>\n",
       "    </tr>\n",
       "    <tr>\n",
       "      <th>1195</th>\n",
       "      <td>52.766393</td>\n",
       "      <td>42.857143</td>\n",
       "      <td>40.27027</td>\n",
       "      <td>78.640777</td>\n",
       "    </tr>\n",
       "    <tr>\n",
       "      <th>1196</th>\n",
       "      <td>52.766393</td>\n",
       "      <td>42.857143</td>\n",
       "      <td>40.27027</td>\n",
       "      <td>78.640777</td>\n",
       "    </tr>\n",
       "    <tr>\n",
       "      <th>1197</th>\n",
       "      <td>52.766393</td>\n",
       "      <td>42.857143</td>\n",
       "      <td>40.27027</td>\n",
       "      <td>78.640777</td>\n",
       "    </tr>\n",
       "    <tr>\n",
       "      <th>1198</th>\n",
       "      <td>52.766393</td>\n",
       "      <td>42.857143</td>\n",
       "      <td>40.27027</td>\n",
       "      <td>78.640777</td>\n",
       "    </tr>\n",
       "    <tr>\n",
       "      <th>1199</th>\n",
       "      <td>52.766393</td>\n",
       "      <td>42.857143</td>\n",
       "      <td>40.27027</td>\n",
       "      <td>78.640777</td>\n",
       "    </tr>\n",
       "  </tbody>\n",
       "</table>\n",
       "<p>1200 rows × 4 columns</p>\n",
       "</div>"
      ],
      "text/plain": [
       "       Domain 0   Domain 1  Domain 2   Domain 3\n",
       "0     52.254098        NaN       NaN        NaN\n",
       "1     51.946721        NaN       NaN        NaN\n",
       "2     52.151639        NaN       NaN        NaN\n",
       "3     53.688525        NaN       NaN        NaN\n",
       "4     54.200820        NaN       NaN        NaN\n",
       "...         ...        ...       ...        ...\n",
       "1195  52.766393  42.857143  40.27027  78.640777\n",
       "1196  52.766393  42.857143  40.27027  78.640777\n",
       "1197  52.766393  42.857143  40.27027  78.640777\n",
       "1198  52.766393  42.857143  40.27027  78.640777\n",
       "1199  52.766393  42.857143  40.27027  78.640777\n",
       "\n",
       "[1200 rows x 4 columns]"
      ]
     },
     "execution_count": 50,
     "metadata": {},
     "output_type": "execute_result"
    }
   ],
   "source": [
    "df"
   ]
  },
  {
   "cell_type": "code",
   "execution_count": 51,
   "metadata": {
    "pycharm": {
     "name": "#%%\n"
    }
   },
   "outputs": [
    {
     "data": {
      "text/plain": [
       "<AxesSubplot:>"
      ]
     },
     "execution_count": 51,
     "metadata": {},
     "output_type": "execute_result"
    },
    {
     "data": {
      "image/png": "[encoded data removed]",
      "text/plain": [
       "<Figure size 432x288 with 1 Axes>"
      ]
     },
     "metadata": {
      "needs_background": "light"
     },
     "output_type": "display_data"
    }
   ],
   "source": [
    "df.plot()"
   ]
  },
  {
   "cell_type": "code",
   "execution_count": 52,
   "metadata": {
    "pycharm": {
     "name": "#%%\n"
    }
   },
   "outputs": [],
   "source": [
    "df['Mean'] = df.mean(axis=1)"
   ]
  },
  {
   "cell_type": "code",
   "execution_count": 53,
   "metadata": {
    "pycharm": {
     "name": "#%%\n"
    }
   },
   "outputs": [],
   "source": [
    "df.to_csv('leaky_relu.csv')"
   ]
  },
  {
   "cell_type": "code",
   "execution_count": 54,
   "metadata": {
    "pycharm": {
     "name": "#%%\n"
    }
   },
   "outputs": [
    {
     "data": {
      "text/html": [
       "<div>\n",
       "<style scoped>\n",
       "    .dataframe tbody tr th:only-of-type {\n",
       "        vertical-align: middle;\n",
       "    }\n",
       "\n",
       "    .dataframe tbody tr th {\n",
       "        vertical-align: top;\n",
       "    }\n",
       "\n",
       "    .dataframe thead th {\n",
       "        text-align: right;\n",
       "    }\n",
       "</style>\n",
       "<table border=\"1\" class=\"dataframe\">\n",
       "  <thead>\n",
       "    <tr style=\"text-align: right;\">\n",
       "      <th></th>\n",
       "      <th>Domain 0</th>\n",
       "      <th>Domain 1</th>\n",
       "      <th>Domain 2</th>\n",
       "      <th>Domain 3</th>\n",
       "      <th>Mean</th>\n",
       "    </tr>\n",
       "  </thead>\n",
       "  <tbody>\n",
       "    <tr>\n",
       "      <th>0</th>\n",
       "      <td>52.254098</td>\n",
       "      <td>NaN</td>\n",
       "      <td>NaN</td>\n",
       "      <td>NaN</td>\n",
       "      <td>52.254098</td>\n",
       "    </tr>\n",
       "    <tr>\n",
       "      <th>1</th>\n",
       "      <td>51.946721</td>\n",
       "      <td>NaN</td>\n",
       "      <td>NaN</td>\n",
       "      <td>NaN</td>\n",
       "      <td>51.946721</td>\n",
       "    </tr>\n",
       "    <tr>\n",
       "      <th>2</th>\n",
       "      <td>52.151639</td>\n",
       "      <td>NaN</td>\n",
       "      <td>NaN</td>\n",
       "      <td>NaN</td>\n",
       "      <td>52.151639</td>\n",
       "    </tr>\n",
       "    <tr>\n",
       "      <th>3</th>\n",
       "      <td>53.688525</td>\n",
       "      <td>NaN</td>\n",
       "      <td>NaN</td>\n",
       "      <td>NaN</td>\n",
       "      <td>53.688525</td>\n",
       "    </tr>\n",
       "    <tr>\n",
       "      <th>4</th>\n",
       "      <td>54.200820</td>\n",
       "      <td>NaN</td>\n",
       "      <td>NaN</td>\n",
       "      <td>NaN</td>\n",
       "      <td>54.200820</td>\n",
       "    </tr>\n",
       "    <tr>\n",
       "      <th>...</th>\n",
       "      <td>...</td>\n",
       "      <td>...</td>\n",
       "      <td>...</td>\n",
       "      <td>...</td>\n",
       "      <td>...</td>\n",
       "    </tr>\n",
       "    <tr>\n",
       "      <th>1195</th>\n",
       "      <td>52.766393</td>\n",
       "      <td>42.857143</td>\n",
       "      <td>40.27027</td>\n",
       "      <td>78.640777</td>\n",
       "      <td>53.633646</td>\n",
       "    </tr>\n",
       "    <tr>\n",
       "      <th>1196</th>\n",
       "      <td>52.766393</td>\n",
       "      <td>42.857143</td>\n",
       "      <td>40.27027</td>\n",
       "      <td>78.640777</td>\n",
       "      <td>53.633646</td>\n",
       "    </tr>\n",
       "    <tr>\n",
       "      <th>1197</th>\n",
       "      <td>52.766393</td>\n",
       "      <td>42.857143</td>\n",
       "      <td>40.27027</td>\n",
       "      <td>78.640777</td>\n",
       "      <td>53.633646</td>\n",
       "    </tr>\n",
       "    <tr>\n",
       "      <th>1198</th>\n",
       "      <td>52.766393</td>\n",
       "      <td>42.857143</td>\n",
       "      <td>40.27027</td>\n",
       "      <td>78.640777</td>\n",
       "      <td>53.633646</td>\n",
       "    </tr>\n",
       "    <tr>\n",
       "      <th>1199</th>\n",
       "      <td>52.766393</td>\n",
       "      <td>42.857143</td>\n",
       "      <td>40.27027</td>\n",
       "      <td>78.640777</td>\n",
       "      <td>53.633646</td>\n",
       "    </tr>\n",
       "  </tbody>\n",
       "</table>\n",
       "<p>1200 rows × 5 columns</p>\n",
       "</div>"
      ],
      "text/plain": [
       "       Domain 0   Domain 1  Domain 2   Domain 3       Mean\n",
       "0     52.254098        NaN       NaN        NaN  52.254098\n",
       "1     51.946721        NaN       NaN        NaN  51.946721\n",
       "2     52.151639        NaN       NaN        NaN  52.151639\n",
       "3     53.688525        NaN       NaN        NaN  53.688525\n",
       "4     54.200820        NaN       NaN        NaN  54.200820\n",
       "...         ...        ...       ...        ...        ...\n",
       "1195  52.766393  42.857143  40.27027  78.640777  53.633646\n",
       "1196  52.766393  42.857143  40.27027  78.640777  53.633646\n",
       "1197  52.766393  42.857143  40.27027  78.640777  53.633646\n",
       "1198  52.766393  42.857143  40.27027  78.640777  53.633646\n",
       "1199  52.766393  42.857143  40.27027  78.640777  53.633646\n",
       "\n",
       "[1200 rows x 5 columns]"
      ]
     },
     "execution_count": 54,
     "metadata": {},
     "output_type": "execute_result"
    }
   ],
   "source": [
    "df"
   ]
  },
  {
   "cell_type": "code",
   "execution_count": null,
   "metadata": {
    "pycharm": {
     "name": "#%%\n"
    }
   },
   "outputs": [],
   "source": []
  },
  {
   "cell_type": "code",
   "execution_count": null,
   "metadata": {
    "pycharm": {
     "name": "#%%\n"
    }
   },
   "outputs": [],
   "source": []
  }
 ],
 "metadata": {
  "kernelspec": {
   "display_name": "Python 3",
   "language": "python",
   "name": "python3"
  },
  "language_info": {
   "codemirror_mode": {
    "name": "ipython",
    "version": 3
   },
   "file_extension": ".py",
   "mimetype": "text/x-python",
   "name": "python",
   "nbconvert_exporter": "python",
   "pygments_lexer": "ipython3",
   "version": "3.7.10"
  }
 },
 "nbformat": 4,
 "nbformat_minor": 1
}
