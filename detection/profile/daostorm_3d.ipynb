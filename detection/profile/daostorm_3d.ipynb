{
 "cells": [
  {
   "cell_type": "markdown",
   "metadata": {},
   "source": [
    "# Initialize"
   ]
  },
  {
   "cell_type": "code",
   "execution_count": 1,
   "metadata": {
    "collapsed": true
   },
   "outputs": [],
   "source": [
    "import sys\n",
    "sys.path.insert(1, \"..\")"
   ]
  },
  {
   "cell_type": "code",
   "execution_count": 2,
   "metadata": {
    "collapsed": true
   },
   "outputs": [],
   "source": [
    "%load_ext autoreload\n",
    "%autoreload 2\n",
    "%load_ext line_profiler"
   ]
  },
  {
   "cell_type": "code",
   "execution_count": 3,
   "metadata": {
    "collapsed": true
   },
   "outputs": [],
   "source": [
    "import os\n",
    "import numpy as np\n",
    "import numba\n",
    "import matplotlib.pyplot as plt\n",
    "%matplotlib inline"
   ]
  },
  {
   "cell_type": "code",
   "execution_count": 4,
   "metadata": {
    "collapsed": false
   },
   "outputs": [],
   "source": [
    "f = np.load(os.path.join(\"..\", \"tests\", \"daostorm_3d\", \"data_find\", \"beads.npz\"))\n",
    "frame = f[\"img\"]\n",
    "lm = f[\"local_max\"]"
   ]
  },
  {
   "cell_type": "code",
   "execution_count": 5,
   "metadata": {
    "collapsed": false
   },
   "outputs": [
    {
     "data": {
      "text/plain": [
       "<matplotlib.image.AxesImage at 0x7f14ec2a9b70>"
      ]
     },
     "execution_count": 5,
     "metadata": {},
     "output_type": "execute_result"
    },
    {
     "data": {
      "image/png": "[encoded data removed]",
      "text/plain": [
       "<matplotlib.figure.Figure at 0x7f14ec33b0f0>"
      ]
     },
     "metadata": {},
     "output_type": "display_data"
    }
   ],
   "source": [
    "plt.imshow(frame, cmap=\"gray\", interpolation=\"none\")"
   ]
  },
  {
   "cell_type": "code",
   "execution_count": 8,
   "metadata": {
    "collapsed": false
   },
   "outputs": [
    {
     "data": {
      "text/plain": [
       "array([[  1.33856917e+03,   3.05000000e+02,   2.00000000e+00,\n",
       "          2.00000000e+01,   2.00000000e+00,   2.73430832e+02,\n",
       "          0.00000000e+00,   0.00000000e+00,   0.00000000e+00],\n",
       "       [  1.93156917e+03,   7.60000000e+01,   2.00000000e+00,\n",
       "          2.10000000e+01,   2.00000000e+00,   2.73430832e+02,\n",
       "          0.00000000e+00,   0.00000000e+00,   0.00000000e+00],\n",
       "       [  2.75456917e+03,   2.76000000e+02,   2.00000000e+00,\n",
       "          2.20000000e+01,   2.00000000e+00,   2.73430832e+02,\n",
       "          0.00000000e+00,   0.00000000e+00,   0.00000000e+00],\n",
       "       [  3.34156917e+03,   4.70000000e+01,   2.00000000e+00,\n",
       "          2.30000000e+01,   2.00000000e+00,   2.73430832e+02,\n",
       "          0.00000000e+00,   0.00000000e+00,   0.00000000e+00],\n",
       "       [  2.88056917e+03,   1.10000000e+02,   2.00000000e+00,\n",
       "          2.80000000e+01,   2.00000000e+00,   2.73430832e+02,\n",
       "          0.00000000e+00,   0.00000000e+00,   0.00000000e+00]])"
      ]
     },
     "execution_count": 8,
     "metadata": {},
     "output_type": "execute_result"
    }
   ],
   "source": [
    "lm[:5]"
   ]
  },
  {
   "cell_type": "code",
   "execution_count": 13,
   "metadata": {
    "collapsed": false
   },
   "outputs": [],
   "source": [
    "import sdt.loc.daostorm_3d.feature\n",
    "from sdt.loc.daostorm_3d import fit, fit_impl, fit_numba, fit_numba_impl\n",
    "from storm_analysis.sa_library import _multi_fit_c\n",
    "import storm_analysis.daostorm_3d"
   ]
  },
  {
   "cell_type": "code",
   "execution_count": 10,
   "metadata": {
    "collapsed": true
   },
   "outputs": [],
   "source": [
    "fit_tol = 1e-6\n",
    "max_iters = 200"
   ]
  },
  {
   "cell_type": "markdown",
   "metadata": {},
   "source": [
    "# 2DFixed"
   ]
  },
  {
   "cell_type": "code",
   "execution_count": 14,
   "metadata": {
    "collapsed": false
   },
   "outputs": [
    {
     "name": "stdout",
     "output_type": "stream",
     "text": [
      "1 loops, best of 3: 217 ms per loop\n"
     ]
    }
   ],
   "source": [
    "fitter = fit_impl.Fitter2DFixed(frame, lm, fit_tol)\n",
    "%timeit -n 1 fitter.iterate()"
   ]
  },
  {
   "cell_type": "code",
   "execution_count": 54,
   "metadata": {
    "collapsed": false
   },
   "outputs": [
    {
     "name": "stdout",
     "output_type": "stream",
     "text": [
      "1 loops, best of 3: 2.34 ms per loop\n"
     ]
    }
   ],
   "source": [
    "fitter_n = fit_numba_impl.Fitter2DFixed(frame, lm, fit_tol)\n",
    "%timeit -n 1 fitter_n.iterate()"
   ]
  },
  {
   "cell_type": "code",
   "execution_count": 24,
   "metadata": {
    "collapsed": false
   },
   "outputs": [
    {
     "name": "stdout",
     "output_type": "stream",
     "text": [
      "1 loops, best of 3: 1.56 ms per loop\n"
     ]
    }
   ],
   "source": [
    "_multi_fit_c.initialize(frame, np.zeros(frame.shape, dtype=np.int32), lm, 1e-6,\n",
    "                        frame.shape[1], frame.shape[0], len(lm), 0)\n",
    "%timeit -n 1 _multi_fit_c.iterate2DFixed()\n",
    "_multi_fit_c.cleanup()"
   ]
  },
  {
   "cell_type": "code",
   "execution_count": 25,
   "metadata": {
    "collapsed": false
   },
   "outputs": [
    {
     "data": {
      "text/plain": [
       "1.3461538461538463"
      ]
     },
     "execution_count": 25,
     "metadata": {},
     "output_type": "execute_result"
    }
   ],
   "source": [
    "2.1/1.56"
   ]
  },
  {
   "cell_type": "code",
   "execution_count": 27,
   "metadata": {
    "collapsed": false
   },
   "outputs": [
    {
     "name": "stdout",
     "output_type": "stream",
     "text": [
      "1 loops, best of 3: 104 ms per loop\n"
     ]
    }
   ],
   "source": [
    "%%timeit -n 1\n",
    "fitter = fit_impl.Fitter2DFixed(frame, lm, fit_tol)"
   ]
  },
  {
   "cell_type": "code",
   "execution_count": 28,
   "metadata": {
    "collapsed": false
   },
   "outputs": [
    {
     "name": "stdout",
     "output_type": "stream",
     "text": [
      "1 loops, best of 3: 2.71 s per loop\n"
     ]
    }
   ],
   "source": [
    "%%timeit -n 1\n",
    "fitter = fit_impl.Fitter2DFixed(frame, lm, fit_tol)\n",
    "fitter.fit()"
   ]
  },
  {
   "cell_type": "code",
   "execution_count": 30,
   "metadata": {
    "collapsed": false
   },
   "outputs": [
    {
     "name": "stdout",
     "output_type": "stream",
     "text": [
      "1 loops, best of 3: 2.27 ms per loop\n"
     ]
    }
   ],
   "source": [
    "%%timeit -n 1\n",
    "fitter_n = fit_numba_impl.Fitter2DFixed(frame, lm, fit_tol)"
   ]
  },
  {
   "cell_type": "code",
   "execution_count": 34,
   "metadata": {
    "collapsed": false
   },
   "outputs": [
    {
     "name": "stdout",
     "output_type": "stream",
     "text": [
      "1 loops, best of 3: 30.1 ms per loop\n"
     ]
    }
   ],
   "source": [
    "%%timeit -n 1\n",
    "fitter_n = fit_numba_impl.Fitter2DFixed(frame, lm, fit_tol)\n",
    "fitter_n.fit()"
   ]
  },
  {
   "cell_type": "code",
   "execution_count": 35,
   "metadata": {
    "collapsed": false
   },
   "outputs": [
    {
     "name": "stdout",
     "output_type": "stream",
     "text": [
      "1 loops, best of 3: 1.56 ms per loop\n"
     ]
    }
   ],
   "source": [
    "%%timeit -n 1\n",
    "_multi_fit_c.initialize(frame, np.zeros(frame.shape, dtype=np.int32), lm, 1e-6,\n",
    "                        frame.shape[1], frame.shape[0], len(lm), 0)\n",
    "_multi_fit_c.cleanup()"
   ]
  },
  {
   "cell_type": "code",
   "execution_count": 37,
   "metadata": {
    "collapsed": false
   },
   "outputs": [
    {
     "name": "stdout",
     "output_type": "stream",
     "text": [
      "1 loops, best of 3: 20.2 ms per loop\n"
     ]
    }
   ],
   "source": [
    "%%timeit -n 1\n",
    "_multi_fit_c.initialize(frame, np.zeros(frame.shape, dtype=np.int32), lm, 1e-6,\n",
    "                        frame.shape[1], frame.shape[0], len(lm), 0)\n",
    "for i in range(max_iters):\n",
    "    _multi_fit_c.iterate2DFixed()\n",
    "    if not _multi_fit_c.getUnconverged():\n",
    "        break\n",
    "_multi_fit_c.cleanup()"
   ]
  },
  {
   "cell_type": "code",
   "execution_count": 38,
   "metadata": {
    "collapsed": false
   },
   "outputs": [
    {
     "data": {
      "text/plain": [
       "1.5054347826086958"
      ]
     },
     "execution_count": 38,
     "metadata": {},
     "output_type": "execute_result"
    }
   ],
   "source": [
    "(30 - 2.3)/(20 - 1.6)"
   ]
  },
  {
   "cell_type": "code",
   "execution_count": 44,
   "metadata": {
    "collapsed": false
   },
   "outputs": [
    {
     "name": "stdout",
     "output_type": "stream",
     "text": [
      "1 loops, best of 3: 284 ms per loop\n"
     ]
    }
   ],
   "source": [
    "%timeit -n 1 sdt.loc.daostorm_3d.feature.locate(frame, 2, 300)"
   ]
  },
  {
   "cell_type": "code",
   "execution_count": 45,
   "metadata": {
    "collapsed": false
   },
   "outputs": [
    {
     "name": "stdout",
     "output_type": "stream",
     "text": [
      "1 loops, best of 3: 178 ms per loop\n"
     ]
    }
   ],
   "source": [
    "%timeit -n 1 storm_analysis.daostorm_3d.locate(frame, 2, \"2dfixed\", 300)"
   ]
  },
  {
   "cell_type": "code",
   "execution_count": 46,
   "metadata": {
    "collapsed": false
   },
   "outputs": [
    {
     "data": {
      "text/plain": [
       "1.595505617977528"
      ]
     },
     "execution_count": 46,
     "metadata": {},
     "output_type": "execute_result"
    }
   ],
   "source": [
    "284/178"
   ]
  },
  {
   "cell_type": "markdown",
   "metadata": {},
   "source": [
    "# 2D"
   ]
  },
  {
   "cell_type": "code",
   "execution_count": 95,
   "metadata": {
    "collapsed": false
   },
   "outputs": [
    {
     "name": "stdout",
     "output_type": "stream",
     "text": [
      "1 loops, best of 3: 261 ms per loop\n"
     ]
    }
   ],
   "source": [
    "fitter = fit_impl.Fitter2D(frame, lm, fit_tol)\n",
    "%timeit -n 1 fitter.iterate()"
   ]
  },
  {
   "cell_type": "code",
   "execution_count": 111,
   "metadata": {
    "collapsed": false
   },
   "outputs": [
    {
     "name": "stdout",
     "output_type": "stream",
     "text": [
      "1 loops, best of 3: 930 µs per loop\n"
     ]
    }
   ],
   "source": [
    "fitter_n = fit_numba_impl.Fitter2D(frame, lm, fit_tol)\n",
    "%timeit -n 1 fitter_n.iterate()"
   ]
  },
  {
   "cell_type": "code",
   "execution_count": 119,
   "metadata": {
    "collapsed": false
   },
   "outputs": [
    {
     "name": "stdout",
     "output_type": "stream",
     "text": [
      "1 loops, best of 3: 665 µs per loop\n"
     ]
    }
   ],
   "source": [
    "_multi_fit_c.initialize(frame, np.zeros(frame.shape, dtype=np.int32), lm, 1e-6,\n",
    "                        frame.shape[1], frame.shape[0], len(lm), 0)\n",
    "%timeit -n 1 _multi_fit_c.iterate2D()\n",
    "_multi_fit_c.cleanup()"
   ]
  },
  {
   "cell_type": "code",
   "execution_count": 120,
   "metadata": {
    "collapsed": false
   },
   "outputs": [
    {
     "data": {
      "text/plain": [
       "1.3880597014925373"
      ]
     },
     "execution_count": 120,
     "metadata": {},
     "output_type": "execute_result"
    }
   ],
   "source": [
    "0.93/0.67"
   ]
  },
  {
   "cell_type": "code",
   "execution_count": 121,
   "metadata": {
    "collapsed": false
   },
   "outputs": [
    {
     "name": "stdout",
     "output_type": "stream",
     "text": [
      "1 loops, best of 3: 110 ms per loop\n"
     ]
    }
   ],
   "source": [
    "%%timeit -n 1\n",
    "fitter = fit_impl.Fitter2D(frame, lm, fit_tol)"
   ]
  },
  {
   "cell_type": "code",
   "execution_count": 122,
   "metadata": {
    "collapsed": false
   },
   "outputs": [
    {
     "name": "stdout",
     "output_type": "stream",
     "text": [
      "1 loops, best of 3: 3.62 s per loop\n"
     ]
    }
   ],
   "source": [
    "%%timeit -n 1\n",
    "fitter = fit_impl.Fitter2D(frame, lm, fit_tol)\n",
    "fitter.fit()"
   ]
  },
  {
   "cell_type": "code",
   "execution_count": 123,
   "metadata": {
    "collapsed": false
   },
   "outputs": [
    {
     "name": "stdout",
     "output_type": "stream",
     "text": [
      "1 loops, best of 3: 2.09 ms per loop\n"
     ]
    }
   ],
   "source": [
    "%%timeit -n 1\n",
    "fitter_n = fit_numba_impl.Fitter2D(frame, lm, fit_tol)"
   ]
  },
  {
   "cell_type": "code",
   "execution_count": 138,
   "metadata": {
    "collapsed": false
   },
   "outputs": [
    {
     "name": "stdout",
     "output_type": "stream",
     "text": [
      "1 loops, best of 3: 14.4 ms per loop\n"
     ]
    }
   ],
   "source": [
    "%%timeit -n 1\n",
    "fitter_n = fit_numba_impl.Fitter2D(frame, lm, fit_tol)\n",
    "fitter_n.fit()"
   ]
  },
  {
   "cell_type": "code",
   "execution_count": 126,
   "metadata": {
    "collapsed": false
   },
   "outputs": [
    {
     "name": "stdout",
     "output_type": "stream",
     "text": [
      "1 loops, best of 3: 1.56 ms per loop\n"
     ]
    }
   ],
   "source": [
    "%%timeit -n 1\n",
    "_multi_fit_c.initialize(frame, np.zeros(frame.shape, dtype=np.int32), lm, 1e-6,\n",
    "                        frame.shape[1], frame.shape[0], len(lm), 0)\n",
    "_multi_fit_c.cleanup()"
   ]
  },
  {
   "cell_type": "code",
   "execution_count": 129,
   "metadata": {
    "collapsed": false
   },
   "outputs": [
    {
     "name": "stdout",
     "output_type": "stream",
     "text": [
      "1 loops, best of 3: 7.98 ms per loop\n"
     ]
    }
   ],
   "source": [
    "%%timeit -n 1\n",
    "_multi_fit_c.initialize(frame, np.zeros(frame.shape, dtype=np.int32), lm, 1e-6,\n",
    "                        frame.shape[1], frame.shape[0], len(lm), 0)\n",
    "for i in range(max_iters):\n",
    "    _multi_fit_c.iterate2D()\n",
    "    if not _multi_fit_c.getUnconverged():\n",
    "        break\n",
    "_multi_fit_c.cleanup()"
   ]
  },
  {
   "cell_type": "code",
   "execution_count": 139,
   "metadata": {
    "collapsed": false
   },
   "outputs": [
    {
     "data": {
      "text/plain": [
       "1.875"
      ]
     },
     "execution_count": 139,
     "metadata": {},
     "output_type": "execute_result"
    }
   ],
   "source": [
    "(14.3 - 2.3)/(8.0 - 1.6)"
   ]
  },
  {
   "cell_type": "markdown",
   "metadata": {},
   "source": [
    "# 3D"
   ]
  },
  {
   "cell_type": "code",
   "execution_count": 140,
   "metadata": {
    "collapsed": false
   },
   "outputs": [
    {
     "name": "stdout",
     "output_type": "stream",
     "text": [
      "1 loops, best of 3: 324 ms per loop\n"
     ]
    }
   ],
   "source": [
    "fitter = fit_impl.Fitter3D(frame, lm, fit_tol)\n",
    "%timeit -n 1 fitter.iterate()"
   ]
  },
  {
   "cell_type": "code",
   "execution_count": 145,
   "metadata": {
    "collapsed": false
   },
   "outputs": [
    {
     "name": "stdout",
     "output_type": "stream",
     "text": [
      "1 loops, best of 3: 979 µs per loop\n"
     ]
    }
   ],
   "source": [
    "fitter_n = fit_numba_impl.Fitter3D(frame, lm, fit_tol)\n",
    "%timeit -n 1 fitter_n.iterate()"
   ]
  },
  {
   "cell_type": "code",
   "execution_count": 151,
   "metadata": {
    "collapsed": false
   },
   "outputs": [
    {
     "name": "stdout",
     "output_type": "stream",
     "text": [
      "1 loops, best of 3: 724 µs per loop\n"
     ]
    }
   ],
   "source": [
    "_multi_fit_c.initialize(frame, np.zeros(frame.shape, dtype=np.int32), lm, 1e-6,\n",
    "                        frame.shape[1], frame.shape[0], len(lm), 0)\n",
    "%timeit -n 1 _multi_fit_c.iterate3D()\n",
    "_multi_fit_c.cleanup()"
   ]
  },
  {
   "cell_type": "code",
   "execution_count": 152,
   "metadata": {
    "collapsed": false
   },
   "outputs": [
    {
     "data": {
      "text/plain": [
       "1.3611111111111112"
      ]
     },
     "execution_count": 152,
     "metadata": {},
     "output_type": "execute_result"
    }
   ],
   "source": [
    "0.98/0.72"
   ]
  },
  {
   "cell_type": "code",
   "execution_count": 153,
   "metadata": {
    "collapsed": false
   },
   "outputs": [
    {
     "name": "stdout",
     "output_type": "stream",
     "text": [
      "1 loops, best of 3: 109 ms per loop\n"
     ]
    }
   ],
   "source": [
    "%%timeit -n 1\n",
    "fitter = fit_impl.Fitter3D(frame, lm, fit_tol)"
   ]
  },
  {
   "cell_type": "code",
   "execution_count": 154,
   "metadata": {
    "collapsed": false
   },
   "outputs": [
    {
     "name": "stdout",
     "output_type": "stream",
     "text": [
      "1 loops, best of 3: 4.48 s per loop\n"
     ]
    }
   ],
   "source": [
    "%%timeit -n 1\n",
    "fitter = fit_impl.Fitter3D(frame, lm, fit_tol)\n",
    "fitter.fit()"
   ]
  },
  {
   "cell_type": "code",
   "execution_count": 156,
   "metadata": {
    "collapsed": false
   },
   "outputs": [
    {
     "name": "stdout",
     "output_type": "stream",
     "text": [
      "1 loops, best of 3: 2.17 ms per loop\n"
     ]
    }
   ],
   "source": [
    "%%timeit -n 1\n",
    "fitter_n = fit_numba_impl.Fitter3D(frame, lm, fit_tol)"
   ]
  },
  {
   "cell_type": "code",
   "execution_count": 177,
   "metadata": {
    "collapsed": false
   },
   "outputs": [
    {
     "name": "stdout",
     "output_type": "stream",
     "text": [
      "1 loops, best of 3: 16.2 ms per loop\n"
     ]
    }
   ],
   "source": [
    "%%timeit -n 1\n",
    "fitter_n = fit_numba_impl.Fitter3D(frame, lm, fit_tol)\n",
    "fitter_n.fit()"
   ]
  },
  {
   "cell_type": "code",
   "execution_count": 160,
   "metadata": {
    "collapsed": false
   },
   "outputs": [
    {
     "name": "stdout",
     "output_type": "stream",
     "text": [
      "1 loops, best of 3: 1.57 ms per loop\n"
     ]
    }
   ],
   "source": [
    "%%timeit -n 1\n",
    "_multi_fit_c.initialize(frame, np.zeros(frame.shape, dtype=np.int32), lm, 1e-6,\n",
    "                        frame.shape[1], frame.shape[0], len(lm), 0)\n",
    "_multi_fit_c.cleanup()"
   ]
  },
  {
   "cell_type": "code",
   "execution_count": 163,
   "metadata": {
    "collapsed": false
   },
   "outputs": [
    {
     "name": "stdout",
     "output_type": "stream",
     "text": [
      "1 loops, best of 3: 8.06 ms per loop\n"
     ]
    }
   ],
   "source": [
    "%%timeit -n 1\n",
    "_multi_fit_c.initialize(frame, np.zeros(frame.shape, dtype=np.int32), lm, 1e-6,\n",
    "                        frame.shape[1], frame.shape[0], len(lm), 0)\n",
    "for i in range(max_iters):\n",
    "    _multi_fit_c.iterate2D()\n",
    "    if not _multi_fit_c.getUnconverged():\n",
    "        break\n",
    "_multi_fit_c.cleanup()"
   ]
  },
  {
   "cell_type": "code",
   "execution_count": 178,
   "metadata": {
    "collapsed": false
   },
   "outputs": [
    {
     "data": {
      "text/plain": [
       "2.1875"
      ]
     },
     "execution_count": 178,
     "metadata": {},
     "output_type": "execute_result"
    }
   ],
   "source": [
    "(16.2 - 2.2)/(8.0 - 1.6)"
   ]
  },
  {
   "cell_type": "code",
   "execution_count": null,
   "metadata": {
    "collapsed": true
   },
   "outputs": [],
   "source": []
  }
 ],
 "metadata": {
  "kernelspec": {
   "display_name": "Python 3",
   "language": "python",
   "name": "python3"
  },
  "language_info": {
   "codemirror_mode": {
    "name": "ipython",
    "version": 3
   },
   "file_extension": ".py",
   "mimetype": "text/x-python",
   "name": "python",
   "nbconvert_exporter": "python",
   "pygments_lexer": "ipython3",
   "version": "3.5.1"
  }
 },
 "nbformat": 4,
 "nbformat_minor": 0
}
